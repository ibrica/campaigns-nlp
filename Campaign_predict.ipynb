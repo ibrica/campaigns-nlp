{
 "cells": [
  {
   "cell_type": "markdown",
   "metadata": {},
   "source": [
    "## Campaign success prediction\n",
    "Analyze Adwords campaign text (Header, Description) and predict how successfull is going to be"
   ]
  },
  {
   "cell_type": "code",
   "execution_count": 75,
   "metadata": {},
   "outputs": [],
   "source": [
    "import torch\n",
    "from fastai.text import (\n",
    "        load_learner,\n",
    "        defaults\n",
    ")\n",
    "import pathlib as path\n",
    "from IPython.display import display, Markdown, clear_output\n",
    "from ipywidgets import Layout, Output, HBox, VBox, Button, Text, HTML, RadioButtons"
   ]
  },
  {
   "cell_type": "code",
   "execution_count": 4,
   "metadata": {},
   "outputs": [],
   "source": [
    "# CPU for inference (think is default anyhow)\n",
    "defaults.device = torch.device('cpu')"
   ]
  },
  {
   "cell_type": "code",
   "execution_count": 5,
   "metadata": {},
   "outputs": [],
   "source": [
    "MODELS = path.Path('/home/jovyan/work/data/corpus/models')"
   ]
  },
  {
   "cell_type": "code",
   "execution_count": 6,
   "metadata": {},
   "outputs": [
    {
     "data": {
      "text/html": [],
      "text/plain": [
       "<IPython.core.display.HTML object>"
      ]
     },
     "metadata": {},
     "output_type": "display_data"
    },
    {
     "data": {
      "text/html": [],
      "text/plain": [
       "<IPython.core.display.HTML object>"
      ]
     },
     "metadata": {},
     "output_type": "display_data"
    },
    {
     "data": {
      "text/html": [],
      "text/plain": [
       "<IPython.core.display.HTML object>"
      ]
     },
     "metadata": {},
     "output_type": "display_data"
    },
    {
     "data": {
      "text/html": [],
      "text/plain": [
       "<IPython.core.display.HTML object>"
      ]
     },
     "metadata": {},
     "output_type": "display_data"
    }
   ],
   "source": [
    "learner_headline = load_learner(MODELS, 'headline-learner.pkl')\n",
    "learner_description = load_learner(MODELS, 'description-learner.pkl')"
   ]
  },
  {
   "cell_type": "code",
   "execution_count": 76,
   "metadata": {},
   "outputs": [],
   "source": [
    "from fastai.text import Tokenizer, SpacyTokenizer, Vocab\n",
    "tokenizer = Tokenizer()"
   ]
  },
  {
   "cell_type": "code",
   "execution_count": 70,
   "metadata": {},
   "outputs": [],
   "source": [
    "tok = SpacyTokenizer('hr')"
   ]
  },
  {
   "cell_type": "code",
   "execution_count": 77,
   "metadata": {},
   "outputs": [],
   "source": [
    "vocab = Vocab.load(MODELS/'campaign_vocab.pkl')"
   ]
  },
  {
   "cell_type": "code",
   "execution_count": 86,
   "metadata": {},
   "outputs": [
    {
     "data": {
      "text/plain": [
       "[0, 541, 0]"
      ]
     },
     "execution_count": 86,
     "metadata": {},
     "output_type": "execute_result"
    }
   ],
   "source": [
    "vocab.numericalize(\"ekupi hladnjake dsadsD\".split())"
   ]
  },
  {
   "cell_type": "code",
   "execution_count": 96,
   "metadata": {},
   "outputs": [
    {
     "data": {
      "text/plain": [
       "0.6666666666666666"
      ]
     },
     "execution_count": 96,
     "metadata": {},
     "output_type": "execute_result"
    }
   ],
   "source": [
    "unknown_words_pct(\"ekupi hladnjake dsadsD\")"
   ]
  },
  {
   "cell_type": "code",
   "execution_count": 87,
   "metadata": {},
   "outputs": [
    {
     "data": {
      "text/plain": [
       "'xxunk hladnjake xxunk'"
      ]
     },
     "execution_count": 87,
     "metadata": {},
     "output_type": "execute_result"
    }
   ],
   "source": [
    "vocab.textify([0, 541, 0])"
   ]
  },
  {
   "cell_type": "code",
   "execution_count": 72,
   "metadata": {},
   "outputs": [
    {
     "data": {
      "text/plain": [
       "['xxup', 'dfgd', 'asdas', 'dsadsadsa']"
      ]
     },
     "execution_count": 72,
     "metadata": {},
     "output_type": "execute_result"
    }
   ],
   "source": [
    "tokenizer.process_text(\"DFGD asdas dsadsadsa\", tok )"
   ]
  },
  {
   "cell_type": "code",
   "execution_count": 73,
   "metadata": {},
   "outputs": [
    {
     "data": {
      "text/html": [
       "<style>\n",
       "    .input_style {\n",
       "        width: 30em;\n",
       "    }\n",
       "    .box_style {\n",
       "        width:40px;\n",
       "        height: 40px;\n",
       "        border : 1px solid gray;\n",
       "    }\n",
       "    .box_color_1 {\n",
       "        background-color: #FF0000;\n",
       "    }\n",
       "    .box_color_2 {\n",
       "        background-color:#FF3300;\n",
       "    }\n",
       "    .box_color_3 {\n",
       "        background-color: #FF6600;\n",
       "    }\n",
       "    .box_color_4 {\n",
       "        background-color: #FF9900;\n",
       "    }\n",
       "    .box_color_5 {\n",
       "        background-color: #FFCC00;\n",
       "    }\n",
       "    .box_color_6 {\n",
       "       background-color: #FEFF00;\n",
       "    }\n",
       "    .box_color_7 {\n",
       "       background-color: #CBFF00;\n",
       "    }\n",
       "    .box_color_8 {\n",
       "       background-color: #98FF00;\n",
       "    }\n",
       "    .box_color_9 {\n",
       "       background-color: #65FF00;\n",
       "    }\n",
       "    .box_color_10 {\n",
       "       background-color: #32FF00;\n",
       "    }\n",
       "    .box_color_11 {\n",
       "       background-color: rgb(0, 255, 0);\n",
       "    }\n",
       "</style>\n"
      ],
      "text/plain": [
       "<IPython.core.display.HTML object>"
      ]
     },
     "metadata": {},
     "output_type": "display_data"
    }
   ],
   "source": [
    "%%html\n",
    "<style>\n",
    "    .input_style {\n",
    "        width: 30em;\n",
    "    }\n",
    "    .box_style {\n",
    "        width:40px;\n",
    "        height: 40px;\n",
    "        border : 1px solid gray;\n",
    "    }\n",
    "    .box_color_1 {\n",
    "        background-color: #FF0000;\n",
    "    }\n",
    "    .box_color_2 {\n",
    "        background-color:#FF3300;\n",
    "    }\n",
    "    .box_color_3 {\n",
    "        background-color: #FF6600;\n",
    "    }\n",
    "    .box_color_4 {\n",
    "        background-color: #FF9900;\n",
    "    }\n",
    "    .box_color_5 {\n",
    "        background-color: #FFCC00;\n",
    "    }\n",
    "    .box_color_6 {\n",
    "       background-color: #FEFF00;\n",
    "    }\n",
    "    .box_color_7 {\n",
    "       background-color: #CBFF00;\n",
    "    }\n",
    "    .box_color_8 {\n",
    "       background-color: #98FF00;\n",
    "    }\n",
    "    .box_color_9 {\n",
    "       background-color: #65FF00;\n",
    "    }\n",
    "    .box_color_10 {\n",
    "       background-color: #32FF00;\n",
    "    }\n",
    "    .box_color_11 {\n",
    "       background-color: rgb(0, 255, 0);\n",
    "    }\n",
    "</style>"
   ]
  },
  {
   "cell_type": "code",
   "execution_count": 130,
   "metadata": {},
   "outputs": [],
   "source": [
    "input_text = Text(\n",
    "       placeholder='Unesi tekst za predikciju',\n",
    "       description='Tekst: '\n",
    ")\n",
    "\n",
    "input_text.add_class(\"input_style\")\n",
    "\n",
    "button = Button(\n",
    "    description='Provjeri',\n",
    "    disabled=False,\n",
    "    button_style='', # 'success', 'info', 'warning', 'danger' or ''\n",
    "    tooltip='Provjeri',\n",
    "    icon='arrow-right' # (FontAwesome names without the `fa-` prefix)\n",
    ")\n",
    "\n",
    "rbs = RadioButtons(\n",
    "    options=['Headline', 'Description'],\n",
    "#    value='Headline', # Defaults to 'pineapple'\n",
    "#    layout={'width': 'max-content'}, # If the items' names are long\n",
    "    description='Type:',\n",
    "    disabled=False\n",
    ")\n",
    "\n",
    "output = Output()\n",
    "\n",
    "box1 = VBox([rbs])\n",
    "box2 = VBox([input_text])\n",
    "box3 = VBox([button])\n",
    "\n",
    "def get_prediction_box(i, label, text):\n",
    "    box1 = VBox(layout=Layout(justify_content= 'flex-end'))\n",
    "    box1.add_class(\"box_style\")\n",
    "    box1.add_class(f'box_color_{i}')\n",
    "    # if DEBUG:\n",
    "    print(f'Box color class: {i}')\n",
    "    html = HTML(\n",
    "        value=f'<b>{text}</b>',\n",
    "        placeholder=label,\n",
    "        description=label,\n",
    "    )\n",
    "    box2 = VBox([html])\n",
    "    return HBox([box1, box2])\n",
    "\n",
    "out_box = HBox([box1, box2, box3])\n",
    "\n",
    "def get_category(rate, part):\n",
    "    ''' Find a color from Int. rate, scale from 1-11 (6 normal text)'''\n",
    "    neutral = 9 if part == 'Description' else 7.5\n",
    "    step = 1.4 if part == 'Description' else 1.2\n",
    "    cat = round((rate - neutral)/step) + 6\n",
    "    cat = cat if cat >0 else 1\n",
    "    cat = cat if cat < 11 else 11\n",
    "    return cat\n",
    "\n",
    "def unknown_words_pct(text: str):\n",
    "    vocab_codes = vocab.numericalize(text.split())\n",
    "    return 100 * vocab_codes.count(0) / len(vocab_codes)\n",
    "    \n",
    "def check_text(b):\n",
    "    with output:\n",
    "        text = input_text.value.lower()\n",
    "        if text != '':\n",
    "            if rbs.value == 'Headline':\n",
    "                rate, _, losses = learner_headline.predict(text)\n",
    "                display(get_prediction_box(get_category(rate.data[0], 'Headline'),'Headline', input_text.value) )\n",
    "            else:\n",
    "                rate, _, losses = learner_description.predict(text)\n",
    "                display(get_prediction_box(get_category(rate.data[0], part='Description'),'Description', input_text.value) )\n",
    "            if DEBUG:\n",
    "                print(f'Predicted interaction rate: {rate}')\n",
    "                print(f'Percentage of unknown words: {unknown_words_pct(text)}%\\n')\n",
    "        else:\n",
    "            print ('No text to predict!')\n",
    "        print('\\n')\n",
    "        \n",
    "button.on_click(check_text)"
   ]
  },
  {
   "cell_type": "code",
   "execution_count": 124,
   "metadata": {},
   "outputs": [],
   "source": [
    "scale = '''\n",
    "### Color representation of message sentiment\n",
    "Greener the color, the better is interaction rate, more red it is, lower interaction rate is forecasted! \n",
    "Yellow class (6) represents text with neutral IR.\n",
    "![Gradient](../images/gradient2.png)\n",
    "'''"
   ]
  },
  {
   "cell_type": "code",
   "execution_count": 131,
   "metadata": {},
   "outputs": [
    {
     "data": {
      "text/markdown": [
       "\n",
       "### Color representation of message sentiment\n",
       "Greener the color, the better is interaction rate, more red it is, lower interaction rate is forecasted! \n",
       "Yellow class (6) represents text with neutral IR.\n",
       "![Gradient](../images/gradient2.png)\n"
      ],
      "text/plain": [
       "<IPython.core.display.Markdown object>"
      ]
     },
     "metadata": {},
     "output_type": "display_data"
    },
    {
     "data": {
      "application/vnd.jupyter.widget-view+json": {
       "model_id": "d03e04b4e3bb43a08e751605311a2f70",
       "version_major": 2,
       "version_minor": 0
      },
      "text/plain": [
       "HBox(children=(VBox(children=(RadioButtons(description='Type:', options=('Headline', 'Description'), value='He…"
      ]
     },
     "metadata": {},
     "output_type": "display_data"
    },
    {
     "data": {
      "application/vnd.jupyter.widget-view+json": {
       "model_id": "686802d899424b54ad00fbecb8cb502e",
       "version_major": 2,
       "version_minor": 0
      },
      "text/plain": [
       "Output()"
      ]
     },
     "metadata": {},
     "output_type": "display_data"
    }
   ],
   "source": [
    "DEBUG=False \n",
    "output.clear_output()\n",
    "# display(input_text)\n",
    "# display(button, output)\n",
    "display(Markdown(scale))\n",
    "display(out_box)\n",
    "display(output)"
   ]
  },
  {
   "cell_type": "code",
   "execution_count": null,
   "metadata": {},
   "outputs": [],
   "source": [
    "%debug"
   ]
  }
 ],
 "metadata": {
  "kernelspec": {
   "display_name": "Python 3 (ipykernel)",
   "language": "python",
   "name": "python3"
  },
  "language_info": {
   "codemirror_mode": {
    "name": "ipython",
    "version": 3
   },
   "file_extension": ".py",
   "mimetype": "text/x-python",
   "name": "python",
   "nbconvert_exporter": "python",
   "pygments_lexer": "ipython3",
   "version": "3.7.10"
  }
 },
 "nbformat": 4,
 "nbformat_minor": 4
}
